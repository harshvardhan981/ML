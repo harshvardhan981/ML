{
  "nbformat": 4,
  "nbformat_minor": 0,
  "metadata": {
    "colab": {
      "provenance": [],
      "include_colab_link": true
    },
    "kernelspec": {
      "name": "python3",
      "display_name": "Python 3"
    }
  },
  "cells": [
    {
      "cell_type": "markdown",
      "metadata": {
        "id": "view-in-github",
        "colab_type": "text"
      },
      "source": [
        "<a href=\"https://colab.research.google.com/github/harshvardhan981/ML/blob/main/upper_confidence_bound.ipynb\" target=\"_parent\"><img src=\"https://colab.research.google.com/assets/colab-badge.svg\" alt=\"Open In Colab\"/></a>"
      ]
    },
    {
      "cell_type": "markdown",
      "metadata": {
        "id": "QJdrJJQUv3-k"
      },
      "source": [
        "# Upper Confidence Bound (UCB)"
      ]
    },
    {
      "cell_type": "markdown",
      "metadata": {
        "id": "2XCjepjJwEv-"
      },
      "source": [
        "## Importing the libraries"
      ]
    },
    {
      "cell_type": "code",
      "source": [
        "import numpy as np\n",
        "import pandas as pd\n",
        "import matplotlib.pyplot as plt\n",
        "import math"
      ],
      "metadata": {
        "id": "bHWDxFPPtNrN"
      },
      "execution_count": 47,
      "outputs": []
    },
    {
      "cell_type": "markdown",
      "metadata": {
        "id": "npqlXjaNwYTv"
      },
      "source": [
        "## Importing the dataset"
      ]
    },
    {
      "cell_type": "code",
      "source": [
        "dataset = pd.read_csv('Ads_CTR_Optimisation.csv')\n"
      ],
      "metadata": {
        "id": "jMeI2cvYtVw2"
      },
      "execution_count": 48,
      "outputs": []
    },
    {
      "cell_type": "markdown",
      "metadata": {
        "id": "PaSbots_wfoB"
      },
      "source": [
        "## Implementing UCB"
      ]
    },
    {
      "cell_type": "code",
      "source": [
        "N=500\n",
        "d=10\n",
        "ads_selected = []\n",
        "total_reward = 0\n",
        "no_of_selections =[0]*d\n",
        "sums_of_rewards = [0]*d\n",
        "total_reward=0\n",
        "for n in range(0,N):\n",
        "  ad=0;\n",
        "  max_upper_bound = 0\n",
        "  for i in range(0,d):\n",
        "    if no_of_selections[i]>0:\n",
        "      average_reward=sums_of_rewards[i]/no_of_selections[i]\n",
        "      delta_i=math.sqrt(3/2*(math.log(n+1)/no_of_selections[i]))\n",
        "      upper_bound=average_reward+delta_i\n",
        "    else:\n",
        "       upper_bound=1e400\n",
        "    if upper_bound>max_upper_bound:\n",
        "      max_upper_bound=upper_bound\n",
        "      ad=i\n",
        "  ads_selected.append(ad)\n",
        "  no_of_selections[ad]=no_of_selections[ad]+1\n",
        "  reward=dataset.values[n,ad]\n",
        "  sums_of_rewards[ad]=sums_of_rewards[ad]+ reward\n",
        "  total_reward=total_reward+reward\n"
      ],
      "metadata": {
        "id": "13gAbVuUwBnH"
      },
      "execution_count": 49,
      "outputs": []
    },
    {
      "cell_type": "markdown",
      "metadata": {
        "id": "AXftWcjDwsYj"
      },
      "source": [
        "## Visualising the results"
      ]
    },
    {
      "cell_type": "code",
      "source": [
        "plt.hist(ads_selected)\n",
        "plt.title(\"Histogram of ads selections\")\n",
        "plt.xlabel('Ads')\n",
        "plt.ylabel('Number of times each ad was selected')\n",
        "plt.show()"
      ],
      "metadata": {
        "colab": {
          "base_uri": "https://localhost:8080/",
          "height": 472
        },
        "id": "TGpGe_yVPFKl",
        "outputId": "fd91d6d2-3a2f-409c-d5a4-e7c66447ecc5"
      },
      "execution_count": 50,
      "outputs": [
        {
          "output_type": "display_data",
          "data": {
            "text/plain": [
              "<Figure size 640x480 with 1 Axes>"
            ],
            "image/png": "[encoded data removed]"
          },
          "metadata": {}
        }
      ]
    }
  ]
}